{
  "nbformat": 4,
  "nbformat_minor": 0,
  "metadata": {
    "colab": {
      "provenance": [],
      "authorship_tag": "ABX9TyPorwEIlAh7cEjpSlnatQAR",
      "include_colab_link": true
    },
    "kernelspec": {
      "name": "python3",
      "display_name": "Python 3"
    },
    "language_info": {
      "name": "python"
    }
  },
  "cells": [
    {
      "cell_type": "markdown",
      "metadata": {
        "id": "view-in-github",
        "colab_type": "text"
      },
      "source": [
        "<a href=\"https://colab.research.google.com/github/nailah21400/HU-DATA-200/blob/main/Commit_2.ipynb\" target=\"_parent\"><img src=\"https://colab.research.google.com/assets/colab-badge.svg\" alt=\"Open In Colab\"/></a>"
      ]
    },
    {
      "cell_type": "code",
      "execution_count": 1,
      "metadata": {
        "id": "fsrGzh7R63EV"
      },
      "outputs": [],
      "source": [
        "# Import the libraries\n",
        "import numpy as np                  # Scientific Computing\n",
        "import pandas as pd                 # Data Analysis\n",
        "import matplotlib.pyplot as plt     # Plotting\n",
        "import seaborn as sns               # Statistical Data Visualization\n",
        "\n",
        "# Let's make sure pandas returns all the rows and columns for the dataframe\n",
        "pd.set_option('display.max_rows', None)\n",
        "pd.set_option('display.max_columns', None)\n",
        "\n",
        "# Force pandas to display full numbers instead of scientific notation\n",
        "# pd.options.display.float_format = '{:.0f}'.format\n",
        "\n",
        "# Library to suppress warnings\n",
        "import warnings\n",
        "warnings.filterwarnings('ignore')"
      ]
    },
    {
      "cell_type": "code",
      "source": [
        "# Importing Google Drive Connection (For Colab use only)\n",
        "from google.colab import drive\n",
        "drive.mount('/content/drive', force_remount=True)"
      ],
      "metadata": {
        "colab": {
          "base_uri": "https://localhost:8080/"
        },
        "id": "zRs0UljiWCLK",
        "outputId": "065db754-19d2-4f2b-f9bb-5049199c1bad"
      },
      "execution_count": 2,
      "outputs": [
        {
          "output_type": "stream",
          "name": "stdout",
          "text": [
            "Mounted at /content/drive\n"
          ]
        }
      ]
    },
    {
      "cell_type": "markdown",
      "source": [
        " Problem Statement:\n",
        "## Medicinal cannabis has gained popularity amongst people with neurologically-based conditions. However, a limited number of patients have access to providers knowledgeable about this alternative medicine. Guidance is especially limited on the use of cannabis for children with autism, depsite its increasing acessability and intrest from parents and caregivers. This study aims to explore parent and caregiver perceptions, feelings and beliefs about using cannabis for their children affected by Autism Spectrum Disorder.\n",
        "\n"
      ],
      "metadata": {
        "id": "i68-x91dZMr8"
      }
    },
    {
      "cell_type": "markdown",
      "source": [
        "Research Question:\n",
        "## What are the perceptons, feelings and attitudes of caregivers' with children with Autism Spectrum Disorder on the use of medicinal cannabis?"
      ],
      "metadata": {
        "id": "_8aFbFrWa5DM"
      }
    },
    {
      "cell_type": "markdown",
      "source": [
        "Hi Professor Kemp! If I cannot find actual data files from a database for this information, how could I use this opportunity to create a systematic review of the literature?\n",
        "This will be my topic for my dissertation and would like to formulate something that goes toward my final product.\n",
        " Thank you!\n"
      ],
      "metadata": {
        "id": "ZhRoDLZ4ZI03"
      }
    }
  ]
}