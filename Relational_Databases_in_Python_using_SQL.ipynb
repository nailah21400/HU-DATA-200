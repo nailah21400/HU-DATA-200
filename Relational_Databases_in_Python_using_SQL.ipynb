{
  "nbformat": 4,
  "nbformat_minor": 0,
  "metadata": {
    "colab": {
      "provenance": [],
      "authorship_tag": "ABX9TyOplAR8EZokGR+C9Bzf8t1N",
      "include_colab_link": true
    },
    "kernelspec": {
      "name": "python3",
      "display_name": "Python 3"
    },
    "language_info": {
      "name": "python"
    }
  },
  "cells": [
    {
      "cell_type": "markdown",
      "metadata": {
        "id": "view-in-github",
        "colab_type": "text"
      },
      "source": [
        "<a href=\"https://colab.research.google.com/github/nailah21400/HU-DATA-200/blob/main/Relational_Databases_in_Python_using_SQL.ipynb\" target=\"_parent\"><img src=\"https://colab.research.google.com/assets/colab-badge.svg\" alt=\"Open In Colab\"/></a>"
      ]
    },
    {
      "cell_type": "code",
      "execution_count": 1,
      "metadata": {
        "colab": {
          "base_uri": "https://localhost:8080/"
        },
        "id": "FS59Y5GEB260",
        "outputId": "b8fa723f-213d-4fc9-e6b0-c1a370c33698"
      },
      "outputs": [
        {
          "output_type": "stream",
          "name": "stdout",
          "text": [
            "Collecting sqlite-database\n",
            "  Downloading sqlite_database-0.7.0-py3-none-any.whl.metadata (4.2 kB)\n",
            "Downloading sqlite_database-0.7.0-py3-none-any.whl (35 kB)\n",
            "Installing collected packages: sqlite-database\n",
            "Successfully installed sqlite-database-0.7.0\n"
          ]
        }
      ],
      "source": [
        "## Importing Libaries\n",
        "\n",
        "!pip install sqlite-database"
      ]
    },
    {
      "cell_type": "code",
      "source": [
        "# Import the libraries\n",
        "import sqlite3\n",
        "import csv\n",
        "import numpy as np\n",
        "import pandas as pd"
      ],
      "metadata": {
        "id": "27WG0BZgsCed"
      },
      "execution_count": 2,
      "outputs": []
    },
    {
      "cell_type": "code",
      "source": [
        "# Create a connection\n",
        "conn = sqlite3.connect('energyindicators.sqlite')\n",
        "\n",
        "# Create a cursor object to navigate\n",
        "cur = conn.cursor()"
      ],
      "metadata": {
        "id": "9T2wUOyRsRC6"
      },
      "execution_count": 3,
      "outputs": []
    },
    {
      "cell_type": "code",
      "source": [
        "# Create a cursor to interact with the database.\n",
        "cur.execute('''DROP TABLE graduates''')"
      ],
      "metadata": {
        "colab": {
          "base_uri": "https://localhost:8080/"
        },
        "id": "VYTLzIXZt-5S",
        "outputId": "e8e0a26c-91d4-4a32-ab09-eb68f1934b35"
      },
      "execution_count": 6,
      "outputs": [
        {
          "output_type": "execute_result",
          "data": {
            "text/plain": [
              "<sqlite3.Cursor at 0x7807de0eeb40>"
            ]
          },
          "metadata": {},
          "execution_count": 6
        }
      ]
    },
    {
      "cell_type": "code",
      "source": [
        "# Create a new table named students\n",
        "# Table fields will be name, graduation year, and school\n",
        "cur.execute('''\n",
        "CREATE TABLE graduates(\n",
        "    id INTEGER PRIMARY KEY AUTOINCREMENT,\n",
        "    name TEXT,\n",
        "    graduated INTEGER,\n",
        "    school TEXT\n",
        "   )\n",
        "   ''')"
      ],
      "metadata": {
        "colab": {
          "base_uri": "https://localhost:8080/"
        },
        "id": "EYAn_cS_uD6b",
        "outputId": "1906819f-f1c4-4759-9b97-8f5f5ad63c96"
      },
      "execution_count": 4,
      "outputs": [
        {
          "output_type": "execute_result",
          "data": {
            "text/plain": [
              "<sqlite3.Cursor at 0x7807de0eeb40>"
            ]
          },
          "metadata": {},
          "execution_count": 4
        }
      ]
    },
    {
      "cell_type": "code",
      "source": [
        "# Insert a record into the table\n",
        "cur.execute('''\n",
        "INSERT INTO graduates (name, graduated, school) VALUES ('Shirley Chisholm', 1951, 'Columbia University')''')\n",
        "conn.commit()"
      ],
      "metadata": {
        "id": "H6bi3BpyuVrW"
      },
      "execution_count": 5,
      "outputs": []
    },
    {
      "cell_type": "code",
      "source": [
        "# Import more than one data into the table\n",
        "# Start with a list for the data\n",
        "data = [('Kimberle Crenshaw', 1989, 'Columbia University'),\n",
        "        ('Barack Obama', 1983, 'Columbia University'),\n",
        "        ('Mae Jemison', 1981, 'Cornell University School of Medicine'),\n",
        "        ('Bessie Coleman','NULL' ,'Langston Industrial College'),\n",
        "        ('Langston Hughes', 1929, 'Lincoln University'),\n",
        "        ('Maya Angelou', 1944, 'Mission High School'),\n",
        "        ('Zora Neale Hurston', 1928, 'Columbia University'),\n",
        "        ('Claudette Colvin','NULL' , 'Booker T Washington High School'),\n",
        "        ('Martin Luther King Jr', 1948, 'Morehouse College'),\n",
        "        ('Audre Lorde', 1961, 'Columbia University'),\n",
        "        ('Ruby Bridges','NULL' , 'Kansas City Business School'),\n",
        "         ('LaKeta L Kemp', 2024, 'Howard University')]"
      ],
      "metadata": {
        "id": "_tuc7mRBuq36"
      },
      "execution_count": 7,
      "outputs": []
    }
  ]
}